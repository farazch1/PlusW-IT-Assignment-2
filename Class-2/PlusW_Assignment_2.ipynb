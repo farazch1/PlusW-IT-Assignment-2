{
  "nbformat": 4,
  "nbformat_minor": 0,
  "metadata": {
    "colab": {
      "provenance": []
    },
    "kernelspec": {
      "name": "python3",
      "display_name": "Python 3"
    },
    "language_info": {
      "name": "python"
    }
  },
  "cells": [
    {
      "cell_type": "code",
      "source": [
        "#----------------------------------------Task - 1 --------------------------------------"
      ],
      "metadata": {
        "id": "4FKWpY8Dw9cp"
      },
      "execution_count": 41,
      "outputs": []
    },
    {
      "cell_type": "code",
      "execution_count": 42,
      "metadata": {
        "colab": {
          "base_uri": "https://localhost:8080/"
        },
        "id": "LDHLuQxOwNDb",
        "outputId": "498f733a-8203-4793-dab6-94ff7134df3c"
      },
      "outputs": [
        {
          "name": "stdout",
          "output_type": "stream",
          "text": [
            "Enter your first name: faraz\n",
            "Enter your last name: CH\n"
          ]
        }
      ],
      "source": [
        "first_name = input(\"Enter your first name: \")\n",
        "last_name = input(\"Enter your last name: \")"
      ]
    },
    {
      "cell_type": "code",
      "source": [
        "first_name = first_name.upper()\n",
        "last_name = last_name.lower()"
      ],
      "metadata": {
        "id": "0eX2s54Pwzou"
      },
      "execution_count": 43,
      "outputs": []
    },
    {
      "cell_type": "code",
      "source": [
        "total_letters = len(first_name) + len(last_name)\n",
        "print(total_letters)"
      ],
      "metadata": {
        "colab": {
          "base_uri": "https://localhost:8080/"
        },
        "id": "h53yxXd3xOIs",
        "outputId": "0c84cac6-29c8-494c-9b93-4f36d6c9d84d"
      },
      "execution_count": 44,
      "outputs": [
        {
          "output_type": "stream",
          "name": "stdout",
          "text": [
            "7\n"
          ]
        }
      ]
    },
    {
      "cell_type": "code",
      "source": [
        "print(f\"First name (upper): {first_name}\")\n",
        "print(f\"Last name (lower): {last_name}\")\n",
        "print(\"Sum of letters in your first and last name:\", total_letters)"
      ],
      "metadata": {
        "colab": {
          "base_uri": "https://localhost:8080/"
        },
        "id": "PgdudtNwxZZN",
        "outputId": "a9277185-a14f-4fdf-c8f3-b0a0d88097cc"
      },
      "execution_count": 45,
      "outputs": [
        {
          "output_type": "stream",
          "name": "stdout",
          "text": [
            "First name (upper): FARAZ\n",
            "Last name (lower): ch\n",
            "Sum of letters in your first and last name: 7\n"
          ]
        }
      ]
    },
    {
      "cell_type": "code",
      "source": [
        "#----------------------------------------Task - 2 --------------------------------------"
      ],
      "metadata": {
        "id": "hKn4TtU8xe5U"
      },
      "execution_count": 46,
      "outputs": []
    },
    {
      "cell_type": "code",
      "source": [
        "print(\"Calculate the area of following shapes:\")\n",
        "print(\"1. Circle\")\n",
        "print(\"2. Rectangle\")\n",
        "print(\"3. Square\")\n",
        "print(\"4. Triangle\")\n",
        "shape = input(\"Find the area of Circle: \")"
      ],
      "metadata": {
        "colab": {
          "base_uri": "https://localhost:8080/"
        },
        "id": "4zSbJGtmxnJu",
        "outputId": "e41dcc4b-ebfe-40c5-f844-dad5b8db628f"
      },
      "execution_count": 47,
      "outputs": [
        {
          "name": "stdout",
          "output_type": "stream",
          "text": [
            "Calculate the area of following shapes:\n",
            "1. Circle\n",
            "2. Rectangle\n",
            "3. Square\n",
            "4. Triangle\n",
            "Find the area of Circle: \n"
          ]
        }
      ]
    },
    {
      "cell_type": "code",
      "source": [
        "radius = float(input(\"Enter Radius of the circle: \"))\n",
        "area_circle  = 3.14 * radius**2\n",
        "print(\"Find the area of Rectangle: \\n\")"
      ],
      "metadata": {
        "colab": {
          "base_uri": "https://localhost:8080/"
        },
        "id": "bWX6jPrByCOx",
        "outputId": "e14d6e07-90b9-407c-83e2-5321ca0d3ad8"
      },
      "execution_count": 48,
      "outputs": [
        {
          "output_type": "stream",
          "name": "stdout",
          "text": [
            "Enter Radius of the circle: 12\n",
            "Find the area of Rectangle: \n",
            "\n"
          ]
        }
      ]
    },
    {
      "cell_type": "code",
      "source": [
        "length = float(input(\"Enter Length of the rectangle: \"))\n",
        "width = float(input(\"Enter Width of the rectangle: \"))\n",
        "area_rectangle = length * width\n",
        "print(\"Find the area of Square: \\n\")"
      ],
      "metadata": {
        "colab": {
          "base_uri": "https://localhost:8080/"
        },
        "id": "wQy6OTX1GZZq",
        "outputId": "fc35bb93-5023-446e-9097-712edfed49ad"
      },
      "execution_count": 49,
      "outputs": [
        {
          "output_type": "stream",
          "name": "stdout",
          "text": [
            "Enter Length of the rectangle: 2\n",
            "Enter Width of the rectangle: 2\n",
            "Find the area of Square: \n",
            "\n"
          ]
        }
      ]
    },
    {
      "cell_type": "code",
      "source": [
        "side = int(input(\"Enter Side of the square: \"))\n",
        "area_square = side**2\n",
        "print(\"Find the area of Trianlge: \\n\")"
      ],
      "metadata": {
        "colab": {
          "base_uri": "https://localhost:8080/"
        },
        "id": "jl2RrUH6Gc5J",
        "outputId": "c33881dd-2e5a-47ac-ebe3-57bc24b293a7"
      },
      "execution_count": 50,
      "outputs": [
        {
          "output_type": "stream",
          "name": "stdout",
          "text": [
            "Enter Side of the square: 3\n",
            "Find the area of Trianlge: \n",
            "\n"
          ]
        }
      ]
    },
    {
      "cell_type": "code",
      "source": [
        "base = int(input(\"Enter Base of the triangle: \"))\n",
        "height = int(input(\"Enter Height of the triangle: \"))\n",
        "area_triangle = 0.5 * base * height"
      ],
      "metadata": {
        "colab": {
          "base_uri": "https://localhost:8080/"
        },
        "id": "XXoVKK2yGiqK",
        "outputId": "e7c3ec0f-bf1f-4dfb-8e40-ce23ba48251a"
      },
      "execution_count": 51,
      "outputs": [
        {
          "name": "stdout",
          "output_type": "stream",
          "text": [
            "Enter Base of the triangle: 2\n",
            "Enter Height of the triangle: 3\n"
          ]
        }
      ]
    },
    {
      "cell_type": "code",
      "source": [
        "print(\"All the areas are: \\n\")"
      ],
      "metadata": {
        "colab": {
          "base_uri": "https://localhost:8080/"
        },
        "id": "04aFGyGBGpDh",
        "outputId": "8debdad5-e045-4f79-9632-1b6272eb6a8a"
      },
      "execution_count": 52,
      "outputs": [
        {
          "output_type": "stream",
          "name": "stdout",
          "text": [
            "All the areas are: \n",
            "\n"
          ]
        }
      ]
    },
    {
      "cell_type": "code",
      "source": [
        "print(\"The area of the circle is:\", area_circle, \"\\n\")\n",
        "print(\"The area of the rectangle is:\", area_rectangle,\"\\n\")\n",
        "print(\"The area of the square is:\", area_square, \"\\n\")\n",
        "print(\"The area of the triangle is:\", area_triangle, \"\\n\")"
      ],
      "metadata": {
        "colab": {
          "base_uri": "https://localhost:8080/"
        },
        "id": "SfJyFS_Syy1e",
        "outputId": "15c9eadd-7ce6-4eb8-c86d-25cb2fb36192"
      },
      "execution_count": 53,
      "outputs": [
        {
          "output_type": "stream",
          "name": "stdout",
          "text": [
            "The area of the circle is: 452.16 \n",
            "\n",
            "The area of the rectangle is: 4.0 \n",
            "\n",
            "The area of the square is: 9 \n",
            "\n",
            "The area of the triangle is: 3.0 \n",
            "\n"
          ]
        }
      ]
    },
    {
      "cell_type": "code",
      "source": [
        "#----------------------------------------Task - 3 --------------------------------------"
      ],
      "metadata": {
        "id": "nLlZCqDl3Uci"
      },
      "execution_count": null,
      "outputs": []
    },
    {
      "cell_type": "code",
      "source": [
        "import random"
      ],
      "metadata": {
        "id": "Q1uTgINC3uEh"
      },
      "execution_count": null,
      "outputs": []
    },
    {
      "cell_type": "code",
      "source": [
        "colors = [\"red\", \"blue\", \"green\", \"yellow\", \"orange\", \"purple\"]"
      ],
      "metadata": {
        "id": "_dEzIIQi3w8K"
      },
      "execution_count": null,
      "outputs": []
    },
    {
      "cell_type": "code",
      "source": [
        "index = random.randint(0, len(colors) - 1)"
      ],
      "metadata": {
        "id": "XbL_Q-lR3zeP"
      },
      "execution_count": null,
      "outputs": []
    },
    {
      "cell_type": "code",
      "source": [
        "selected_color = colors[index]"
      ],
      "metadata": {
        "id": "-5eWyhtH32rm"
      },
      "execution_count": null,
      "outputs": []
    },
    {
      "cell_type": "code",
      "source": [
        "password = selected_color[::-1]"
      ],
      "metadata": {
        "id": "7tqO7o8735Ke"
      },
      "execution_count": null,
      "outputs": []
    },
    {
      "cell_type": "code",
      "source": [
        "print(\"Selected Color:\", selected_color)\n",
        "print(\"Generated Password:\", password)"
      ],
      "metadata": {
        "colab": {
          "base_uri": "https://localhost:8080/"
        },
        "id": "WwN0__BB37la",
        "outputId": "ec5bf084-b617-45c5-ea2e-3644bc1bcf4c"
      },
      "execution_count": null,
      "outputs": [
        {
          "output_type": "stream",
          "name": "stdout",
          "text": [
            "Selected Color: orange\n",
            "Generated Password: egnaro\n"
          ]
        }
      ]
    },
    {
      "cell_type": "code",
      "source": [],
      "metadata": {
        "id": "y7zz31643_P-"
      },
      "execution_count": null,
      "outputs": []
    }
  ]
}