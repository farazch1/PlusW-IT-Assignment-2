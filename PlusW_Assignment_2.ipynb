{
  "nbformat": 4,
  "nbformat_minor": 0,
  "metadata": {
    "colab": {
      "provenance": []
    },
    "kernelspec": {
      "name": "python3",
      "display_name": "Python 3"
    },
    "language_info": {
      "name": "python"
    }
  },
  "cells": [
    {
      "cell_type": "code",
      "source": [
        "#----------------------------------------Task - 1 --------------------------------------"
      ],
      "metadata": {
        "id": "4FKWpY8Dw9cp"
      },
      "execution_count": 4,
      "outputs": []
    },
    {
      "cell_type": "code",
      "execution_count": 19,
      "metadata": {
        "colab": {
          "base_uri": "https://localhost:8080/"
        },
        "id": "LDHLuQxOwNDb",
        "outputId": "edfbceaa-6f50-4de4-bc36-a1d0d6af392b"
      },
      "outputs": [
        {
          "name": "stdout",
          "output_type": "stream",
          "text": [
            "Enter your first name: faraz\n",
            "Enter your last name: CH\n"
          ]
        }
      ],
      "source": [
        "first_name = input(\"Enter your first name: \")\n",
        "last_name = input(\"Enter your last name: \")"
      ]
    },
    {
      "cell_type": "code",
      "source": [
        "first_name = first_name.upper()\n",
        "last_name = last_name.lower()"
      ],
      "metadata": {
        "id": "0eX2s54Pwzou"
      },
      "execution_count": 20,
      "outputs": []
    },
    {
      "cell_type": "code",
      "source": [
        "total_letters = len(first_name) + len(last_name)\n",
        "print(total_letters)"
      ],
      "metadata": {
        "colab": {
          "base_uri": "https://localhost:8080/"
        },
        "id": "h53yxXd3xOIs",
        "outputId": "5eeb1053-f80d-47e1-edf7-312e64c9aff2"
      },
      "execution_count": 21,
      "outputs": [
        {
          "output_type": "stream",
          "name": "stdout",
          "text": [
            "7\n"
          ]
        }
      ]
    },
    {
      "cell_type": "code",
      "source": [
        "print(f\"First name (upper): {first_name}\")\n",
        "print(f\"Last name (lower): {last_name}\")\n",
        "print(\"Sum of letters in your first and last name:\", total_letters)"
      ],
      "metadata": {
        "colab": {
          "base_uri": "https://localhost:8080/"
        },
        "id": "PgdudtNwxZZN",
        "outputId": "13a167db-2e9d-44e3-dae4-2bed70f1a058"
      },
      "execution_count": 22,
      "outputs": [
        {
          "output_type": "stream",
          "name": "stdout",
          "text": [
            "First name (upper): FARAZ\n",
            "Last name (lower): ch\n",
            "Sum of letters in your first and last name: 7\n"
          ]
        }
      ]
    },
    {
      "cell_type": "code",
      "source": [
        "#----------------------------------------Task - 2 --------------------------------------"
      ],
      "metadata": {
        "id": "hKn4TtU8xe5U"
      },
      "execution_count": 23,
      "outputs": []
    },
    {
      "cell_type": "code",
      "source": [
        "print(\"Calculate the area of following shapes:\")\n",
        "print(\"1. Circle\")\n",
        "print(\"2. Rectangle\")\n",
        "print(\"3. Square\")\n",
        "print(\"4. Triangle\")\n",
        "shape = input(\"Choose Shape Number: \")"
      ],
      "metadata": {
        "colab": {
          "base_uri": "https://localhost:8080/"
        },
        "id": "4zSbJGtmxnJu",
        "outputId": "cf7263a2-2c4d-45a5-a685-a68d7ebbfdb2"
      },
      "execution_count": 30,
      "outputs": [
        {
          "name": "stdout",
          "output_type": "stream",
          "text": [
            "Calculate the area of following shapes:\n",
            "1. Circle\n",
            "2. Rectangle\n",
            "3. Square\n",
            "4. Triangle\n",
            "Choose Shape Number: 3\n"
          ]
        }
      ]
    },
    {
      "cell_type": "code",
      "source": [
        "if shape == \"1\":\n",
        "  radius = float(input(\"Enter Radius of the circle: \"))\n",
        "  area  = 3.14 * radius**2\n",
        "  print(\"Area of the circle is: \", area)\n",
        "elif shape == \"2\":\n",
        "  length = float(input(\"Enter Length of the rectangle: \"))\n",
        "  width = float(input(\"Enter Width of the rectangle: \"))\n",
        "  area = length * width\n",
        "  print(\"Area of the rectangle is: \", area, \"\\n\")\n",
        "elif shape == \"3\":\n",
        "  side = int(input(\"Enter Side of the square: \"))\n",
        "  area = side**2\n",
        "  print(\"Area of the square is: \", area)\n",
        "elif shape == \"4\":\n",
        "  base = int(input(\"Enter Base of the triangle: \"))\n",
        "  height = int(input(\"Enter Height of the triangle: \"))\n",
        "  area = 0.5 * base * height\n",
        "  print(\"Area of the triangle is: \", area)"
      ],
      "metadata": {
        "colab": {
          "base_uri": "https://localhost:8080/"
        },
        "id": "bWX6jPrByCOx",
        "outputId": "5e160693-ae16-49f9-b9ba-f1fdbf243e46"
      },
      "execution_count": 31,
      "outputs": [
        {
          "output_type": "stream",
          "name": "stdout",
          "text": [
            "Enter Side of the square: 23\n",
            "Area of the square is:  529\n"
          ]
        }
      ]
    },
    {
      "cell_type": "code",
      "source": [
        "if shape == \"1\":\n",
        "  print(\"Area of the circle is: \", area)\n",
        "elif shape == \"2\":\n",
        "  print(\"Area of the rectangle is: \", area, \"\\n\")\n",
        "elif shape == \"3\":\n",
        "  print(\"Area of the square is: \", area)\n",
        "elif shape == \"4\":\n",
        "  print(\"Area of the triangle is: \", area)"
      ],
      "metadata": {
        "colab": {
          "base_uri": "https://localhost:8080/"
        },
        "id": "SfJyFS_Syy1e",
        "outputId": "4b784617-9548-4ab0-aa8b-867693daa951"
      },
      "execution_count": 32,
      "outputs": [
        {
          "output_type": "stream",
          "name": "stdout",
          "text": [
            "Area of the square is:  529\n"
          ]
        }
      ]
    },
    {
      "cell_type": "code",
      "source": [
        "#----------------------------------------Task - 3 --------------------------------------"
      ],
      "metadata": {
        "id": "nLlZCqDl3Uci"
      },
      "execution_count": 33,
      "outputs": []
    },
    {
      "cell_type": "code",
      "source": [
        "import random"
      ],
      "metadata": {
        "id": "Q1uTgINC3uEh"
      },
      "execution_count": 34,
      "outputs": []
    },
    {
      "cell_type": "code",
      "source": [
        "colors = [\"red\", \"blue\", \"green\", \"yellow\", \"orange\", \"purple\"]"
      ],
      "metadata": {
        "id": "_dEzIIQi3w8K"
      },
      "execution_count": 35,
      "outputs": []
    },
    {
      "cell_type": "code",
      "source": [
        "index = random.randint(0, len(colors) - 1)"
      ],
      "metadata": {
        "id": "XbL_Q-lR3zeP"
      },
      "execution_count": 36,
      "outputs": []
    },
    {
      "cell_type": "code",
      "source": [
        "selected_color = colors[index]"
      ],
      "metadata": {
        "id": "-5eWyhtH32rm"
      },
      "execution_count": 38,
      "outputs": []
    },
    {
      "cell_type": "code",
      "source": [
        "password = selected_color[::-1]"
      ],
      "metadata": {
        "id": "7tqO7o8735Ke"
      },
      "execution_count": 39,
      "outputs": []
    },
    {
      "cell_type": "code",
      "source": [
        "print(\"Selected Color:\", selected_color)\n",
        "print(\"Generated Password:\", password)"
      ],
      "metadata": {
        "colab": {
          "base_uri": "https://localhost:8080/"
        },
        "id": "WwN0__BB37la",
        "outputId": "ec5bf084-b617-45c5-ea2e-3644bc1bcf4c"
      },
      "execution_count": 40,
      "outputs": [
        {
          "output_type": "stream",
          "name": "stdout",
          "text": [
            "Selected Color: orange\n",
            "Generated Password: egnaro\n"
          ]
        }
      ]
    },
    {
      "cell_type": "code",
      "source": [],
      "metadata": {
        "id": "y7zz31643_P-"
      },
      "execution_count": null,
      "outputs": []
    }
  ]
}