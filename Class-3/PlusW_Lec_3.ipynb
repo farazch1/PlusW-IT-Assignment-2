{
  "nbformat": 4,
  "nbformat_minor": 0,
  "metadata": {
    "colab": {
      "provenance": []
    },
    "kernelspec": {
      "name": "python3",
      "display_name": "Python 3"
    },
    "language_info": {
      "name": "python"
    }
  },
  "cells": [
    {
      "cell_type": "code",
      "execution_count": null,
      "metadata": {
        "colab": {
          "base_uri": "https://localhost:8080/"
        },
        "id": "GJUvyIoA3h2B",
        "outputId": "584c6f59-efee-41d7-e5ee-4225b7440d7a"
      },
      "outputs": [
        {
          "output_type": "stream",
          "name": "stdout",
          "text": [
            "enter your age: 12\n",
            "you are eligible for the vote\n"
          ]
        }
      ],
      "source": [
        "#conditional\n",
        "age = int(input(\"enter your age: \"))\n",
        "if age <= 21:\n",
        "  print(\"you are eligible for the vote\")\n",
        "else:\n",
        "  print(\"you are not eligible for the vote\")"
      ]
    },
    {
      "cell_type": "code",
      "source": [
        "#if else and elif swtatements\n",
        "marks = 80\n",
        "if marks >=90:\n",
        "  print(\"grade A\")\n",
        "elif marks >=80:\n",
        "  print(\"grade B\")\n",
        "elif marks >=70:\n",
        "  print(\"grade C\")\n",
        "elif marks >=60:\n",
        "  print(\"grade D\")\n",
        "else:\n",
        "  print(\"grade F\")"
      ],
      "metadata": {
        "colab": {
          "base_uri": "https://localhost:8080/"
        },
        "id": "NvHJ6hfo3vIw",
        "outputId": "072467ce-bf24-4218-ba3c-c55fb6367ae7"
      },
      "execution_count": null,
      "outputs": [
        {
          "output_type": "stream",
          "name": "stdout",
          "text": [
            "grade B\n"
          ]
        }
      ]
    },
    {
      "cell_type": "code",
      "source": [
        "#nsted if stetemrnts\n",
        "num = int(input(\"Enter a number: \"))\n",
        "if num >= 0:\n",
        "  if num == 0:\n",
        "    print(\"number is Zero\")\n",
        "  else:\n",
        "    print(\"number is Positive number\")\n",
        "else:\n",
        "  print(\"number is Negative\")"
      ],
      "metadata": {
        "colab": {
          "base_uri": "https://localhost:8080/"
        },
        "id": "uxl54HJe5WlB",
        "outputId": "d7e6cae5-8668-44e2-bae6-da16e292605a"
      },
      "execution_count": null,
      "outputs": [
        {
          "output_type": "stream",
          "name": "stdout",
          "text": [
            "Enter a number: 0\n",
            "number is Zero\n"
          ]
        }
      ]
    },
    {
      "cell_type": "code",
      "source": [
        "num = 10\n",
        "\n",
        "if num > 5:\n",
        "  if num % 2 == 0:\n",
        "    print(f\"{num} is greater than 5\")\n",
        "  else:\n",
        "    print(f\"{num} is greater than 5\")\n",
        "else:\n",
        "  print(\"number is less than 5\")"
      ],
      "metadata": {
        "colab": {
          "base_uri": "https://localhost:8080/"
        },
        "id": "JL447e-R52QP",
        "outputId": "061b3e80-24f4-42bd-f309-10da6bb09c33"
      },
      "execution_count": null,
      "outputs": [
        {
          "output_type": "stream",
          "name": "stdout",
          "text": [
            "10 is greater than 5\n"
          ]
        }
      ]
    },
    {
      "cell_type": "code",
      "source": [
        "is_adult = True\n",
        "has_voter_id = False\n",
        "\n",
        "if is_adult or has_voter_id:\n",
        "  print(\"you are eligible to vote\")\n",
        "else:\n",
        "  print(\"you are not eligible to vote\")"
      ],
      "metadata": {
        "colab": {
          "base_uri": "https://localhost:8080/"
        },
        "id": "ByCGy_646H9C",
        "outputId": "adf57e27-e05d-422c-defc-a6292b12981d"
      },
      "execution_count": null,
      "outputs": [
        {
          "output_type": "stream",
          "name": "stdout",
          "text": [
            "you are eligible to vote\n"
          ]
        }
      ]
    },
    {
      "cell_type": "code",
      "source": [
        "#Ternary Operator\n",
        "#Shorthand way of writing single line if-else statement\n",
        "\n",
        "\n",
        "age = 30\n",
        "message = \"Adult\" if age >= 18 else \"Not Adult\"\n",
        "print(message)"
      ],
      "metadata": {
        "colab": {
          "base_uri": "https://localhost:8080/"
        },
        "id": "J5uQbGvu7Ol4",
        "outputId": "b3c5f3a4-d2f4-40e2-86fb-36a307e6d495"
      },
      "execution_count": null,
      "outputs": [
        {
          "output_type": "stream",
          "name": "stdout",
          "text": [
            "Adult\n"
          ]
        }
      ]
    },
    {
      "cell_type": "code",
      "source": [
        "#Match-case statement\n",
        "\n",
        "color = input(\"Enter the color: \").lower()\n",
        "\n",
        "match color:\n",
        "  case \"red\":\n",
        "    print(\"Stop!\")\n",
        "  case \"yellow\":\n",
        "    print(\"Ready!\")\n",
        "  case \"green\":\n",
        "    print(\"Go!\")\n",
        "  case _:\n",
        "    print(\"color is unknown\")"
      ],
      "metadata": {
        "colab": {
          "base_uri": "https://localhost:8080/"
        },
        "id": "YMEdZV_P7nn-",
        "outputId": "a253cc29-bab0-4c4f-b732-cf212c80decb"
      },
      "execution_count": null,
      "outputs": [
        {
          "output_type": "stream",
          "name": "stdout",
          "text": [
            "Enter the color: RED\n",
            "Stop!\n"
          ]
        }
      ]
    },
    {
      "cell_type": "code",
      "source": [
        "fruits = [\"Apple\", \"Bananas\", \"Mangoe\"]\n",
        "\n",
        "for fruit in fruits:\n",
        "  print(fruit)"
      ],
      "metadata": {
        "colab": {
          "base_uri": "https://localhost:8080/"
        },
        "id": "spgjTG9472vn",
        "outputId": "112df3d8-eece-448e-d40d-f750cdf531ae"
      },
      "execution_count": null,
      "outputs": [
        {
          "output_type": "stream",
          "name": "stdout",
          "text": [
            "Apple\n",
            "Bananas\n",
            "Mangoe\n"
          ]
        }
      ]
    },
    {
      "cell_type": "code",
      "source": [
        "fruits = \"Apple\"\n",
        "\n",
        "for fruit in fruits:\n",
        "  print(fruit)"
      ],
      "metadata": {
        "colab": {
          "base_uri": "https://localhost:8080/"
        },
        "id": "DB69ISPc8_2D",
        "outputId": "08ef3baf-81b5-49d2-8497-3d9f0be66093"
      },
      "execution_count": null,
      "outputs": [
        {
          "output_type": "stream",
          "name": "stdout",
          "text": [
            "A\n",
            "p\n",
            "p\n",
            "l\n",
            "e\n"
          ]
        }
      ]
    },
    {
      "cell_type": "code",
      "source": [
        "fruits = {\"friut\":\"Apple\", \"car\":\"Suzuki\", \"city\":\"Tokyo\"}\n",
        "\n",
        "for key, value in fruits.items():\n",
        "  print(f\"{key}:{value}\")"
      ],
      "metadata": {
        "colab": {
          "base_uri": "https://localhost:8080/"
        },
        "id": "-r0mcIC99o9_",
        "outputId": "3c1c23f4-a09e-4f72-c7a7-0342ac5421bc"
      },
      "execution_count": null,
      "outputs": [
        {
          "output_type": "stream",
          "name": "stdout",
          "text": [
            "friut:Apple\n",
            "car:Suzuki\n",
            "city:Tokyo\n"
          ]
        }
      ]
    },
    {
      "cell_type": "code",
      "source": [
        "for i in range(1, 11):\n",
        "  print(f\"{i}\")"
      ],
      "metadata": {
        "colab": {
          "base_uri": "https://localhost:8080/"
        },
        "id": "U5nzfjC1923Q",
        "outputId": "d3ce8d5e-cd3b-44fb-887b-1c958b27147d"
      },
      "execution_count": null,
      "outputs": [
        {
          "output_type": "stream",
          "name": "stdout",
          "text": [
            "1\n",
            "2\n",
            "3\n",
            "4\n",
            "5\n",
            "6\n",
            "7\n",
            "8\n",
            "9\n",
            "10\n"
          ]
        }
      ]
    },
    {
      "cell_type": "code",
      "source": [
        "#While Loops\n",
        "count = 0\n",
        "while count <= 5:\n",
        "  print(f\"Count: {count}\")\n",
        "  count += 1\n"
      ],
      "metadata": {
        "colab": {
          "base_uri": "https://localhost:8080/"
        },
        "id": "xBe6FGm6-Qez",
        "outputId": "dd4f5c20-bee7-4b3f-da10-a9634a1138a4"
      },
      "execution_count": null,
      "outputs": [
        {
          "output_type": "stream",
          "name": "stdout",
          "text": [
            "Count: 0\n",
            "Count: 1\n",
            "Count: 2\n",
            "Count: 3\n",
            "Count: 4\n",
            "Count: 5\n"
          ]
        }
      ]
    },
    {
      "cell_type": "code",
      "source": [
        "while True:\n",
        "  user_input  = input(\"Enter the q letter to exit: \")\n",
        "  if user_input == \"q\":\n",
        "    break\n",
        "  print(f\"You entered: {user_input}\")\n"
      ],
      "metadata": {
        "colab": {
          "base_uri": "https://localhost:8080/"
        },
        "id": "w6Wv6brL-n0L",
        "outputId": "4e11877f-5d6e-46a8-ba7e-f8a28cdaf234"
      },
      "execution_count": null,
      "outputs": [
        {
          "name": "stdout",
          "output_type": "stream",
          "text": [
            "Enter the q letter to exit: 12\n",
            "You entered: 12\n",
            "Enter the q letter to exit: qw\n",
            "You entered: qw\n",
            "Enter the q letter to exit: r\n",
            "You entered: r\n",
            "Enter the q letter to exit: 1\n",
            "You entered: 1\n",
            "Enter the q letter to exit: q\n"
          ]
        }
      ]
    },
    {
      "cell_type": "code",
      "source": [
        "for i in range(10):\n",
        "  if i == 5:\n",
        "    break\n",
        "  print(i)"
      ],
      "metadata": {
        "colab": {
          "base_uri": "https://localhost:8080/"
        },
        "id": "--_y7-FI_XUW",
        "outputId": "37acb661-4842-4118-eb5d-033d7b1f9857"
      },
      "execution_count": null,
      "outputs": [
        {
          "output_type": "stream",
          "name": "stdout",
          "text": [
            "0\n",
            "1\n",
            "2\n",
            "3\n",
            "4\n"
          ]
        }
      ]
    },
    {
      "cell_type": "code",
      "source": [
        "for i in range(10):\n",
        "  if i == 5:\n",
        "    continue\n",
        "  print(i)"
      ],
      "metadata": {
        "colab": {
          "base_uri": "https://localhost:8080/"
        },
        "id": "1InROcM__gge",
        "outputId": "93e0d6a8-ee32-4b5f-c46b-049fbbb3daa0"
      },
      "execution_count": null,
      "outputs": [
        {
          "output_type": "stream",
          "name": "stdout",
          "text": [
            "0\n",
            "1\n",
            "2\n",
            "3\n",
            "4\n",
            "6\n",
            "7\n",
            "8\n",
            "9\n"
          ]
        }
      ]
    },
    {
      "cell_type": "code",
      "source": [
        "for i in range(10):\n",
        "  pass"
      ],
      "metadata": {
        "id": "FdzcGpJk_q-c"
      },
      "execution_count": null,
      "outputs": []
    },
    {
      "cell_type": "code",
      "source": [
        "#Loop inside Loop\n",
        "for i in range(3):\n",
        "  for j in range(2):\n",
        "    print(i, j)"
      ],
      "metadata": {
        "colab": {
          "base_uri": "https://localhost:8080/"
        },
        "id": "v-OTVn0T_xfq",
        "outputId": "0caa2b11-4ad9-44d6-c1cf-4daa24855834"
      },
      "execution_count": null,
      "outputs": [
        {
          "output_type": "stream",
          "name": "stdout",
          "text": [
            "0 0\n",
            "0 1\n",
            "1 0\n",
            "1 1\n",
            "2 0\n",
            "2 1\n"
          ]
        }
      ]
    },
    {
      "cell_type": "code",
      "source": [
        "for i in range(1, 6):\n",
        "  for j in range (1, 6):\n",
        "    print(f\"{i} x {j} = {i*j}\")\n",
        "  print(\"\\n\")"
      ],
      "metadata": {
        "colab": {
          "base_uri": "https://localhost:8080/"
        },
        "id": "vz9rrCpA__fm",
        "outputId": "2c03da12-6808-491b-f0bc-3d511ac8748d"
      },
      "execution_count": null,
      "outputs": [
        {
          "output_type": "stream",
          "name": "stdout",
          "text": [
            "1 x 1 = 1\n",
            "1 x 2 = 2\n",
            "1 x 3 = 3\n",
            "1 x 4 = 4\n",
            "1 x 5 = 5\n",
            "\n",
            "\n",
            "2 x 1 = 2\n",
            "2 x 2 = 4\n",
            "2 x 3 = 6\n",
            "2 x 4 = 8\n",
            "2 x 5 = 10\n",
            "\n",
            "\n",
            "3 x 1 = 3\n",
            "3 x 2 = 6\n",
            "3 x 3 = 9\n",
            "3 x 4 = 12\n",
            "3 x 5 = 15\n",
            "\n",
            "\n",
            "4 x 1 = 4\n",
            "4 x 2 = 8\n",
            "4 x 3 = 12\n",
            "4 x 4 = 16\n",
            "4 x 5 = 20\n",
            "\n",
            "\n",
            "5 x 1 = 5\n",
            "5 x 2 = 10\n",
            "5 x 3 = 15\n",
            "5 x 4 = 20\n",
            "5 x 5 = 25\n",
            "\n",
            "\n"
          ]
        }
      ]
    },
    {
      "cell_type": "code",
      "source": [
        "def greet(name):\n",
        "  print(f\"Hello, {name} is a good person\")\n",
        "\n",
        "greet(\"faraz\")"
      ],
      "metadata": {
        "colab": {
          "base_uri": "https://localhost:8080/"
        },
        "id": "qI5lwubXCy0-",
        "outputId": "a49367cd-9a87-4d13-fd22-e1a86b5c7e7d"
      },
      "execution_count": null,
      "outputs": [
        {
          "output_type": "stream",
          "name": "stdout",
          "text": [
            "Hello, faraz is a good person\n"
          ]
        }
      ]
    },
    {
      "cell_type": "code",
      "source": [
        "def display_info(name, age = 21):\n",
        "  print(f\"Name: {name}, Age:{age}\")\n",
        "\n",
        "display_info(\"faraz\", 22)"
      ],
      "metadata": {
        "colab": {
          "base_uri": "https://localhost:8080/"
        },
        "id": "vWMYEd2HDBhZ",
        "outputId": "b7165662-9394-4e36-acbe-f9aafb23400c"
      },
      "execution_count": null,
      "outputs": [
        {
          "output_type": "stream",
          "name": "stdout",
          "text": [
            "Name: faraz, Age:22\n"
          ]
        }
      ]
    },
    {
      "cell_type": "code",
      "source": [
        "def my_func():\n",
        "  pass\n",
        "\n",
        "res = my_func()\n",
        "\n",
        "print(res)"
      ],
      "metadata": {
        "colab": {
          "base_uri": "https://localhost:8080/"
        },
        "id": "gR8CdEn6DRLz",
        "outputId": "c9e1b7ab-254c-49a5-ce1d-c7bb5a08a8d6"
      },
      "execution_count": null,
      "outputs": [
        {
          "output_type": "stream",
          "name": "stdout",
          "text": [
            "None\n"
          ]
        }
      ]
    },
    {
      "cell_type": "code",
      "source": [
        "#Arbitrary Arguments\n",
        "def print_arg(*args):\n",
        "  for arg in args:\n",
        "    print(arg)\n",
        "\n",
        "print_arg(1,2,3,4,5)"
      ],
      "metadata": {
        "colab": {
          "base_uri": "https://localhost:8080/"
        },
        "id": "rqoF-3VmEHX_",
        "outputId": "bd5bd5a2-392a-49fa-a0c6-c8ef979729a7"
      },
      "execution_count": null,
      "outputs": [
        {
          "output_type": "stream",
          "name": "stdout",
          "text": [
            "1\n",
            "2\n",
            "3\n",
            "4\n",
            "5\n"
          ]
        }
      ]
    },
    {
      "cell_type": "code",
      "source": [
        "#KeyWord Arguments\n",
        "def print_kwargs(**kwargs):\n",
        "  for key, value in kwargs.items():\n",
        "    print(f\"{key}: {value}\")\n",
        "\n",
        "print_kwargs(name=\"faraz\", age=21)"
      ],
      "metadata": {
        "colab": {
          "base_uri": "https://localhost:8080/"
        },
        "id": "Koj4Af-YEX4j",
        "outputId": "688323b4-20d4-4417-e033-b76aa0dc692e"
      },
      "execution_count": null,
      "outputs": [
        {
          "output_type": "stream",
          "name": "stdout",
          "text": [
            "name: faraz\n",
            "age: 21\n"
          ]
        }
      ]
    },
    {
      "cell_type": "code",
      "source": [
        "#Lambda Function\n",
        "#One liner function\n",
        "\n",
        "square = lambda x:x**2\n",
        "print(square(5))"
      ],
      "metadata": {
        "colab": {
          "base_uri": "https://localhost:8080/"
        },
        "id": "kYtNV1JDEnAB",
        "outputId": "8afdbc7d-8e64-492d-dd33-80c0cbb75ed1"
      },
      "execution_count": null,
      "outputs": [
        {
          "output_type": "stream",
          "name": "stdout",
          "text": [
            "25\n"
          ]
        }
      ]
    },
    {
      "cell_type": "code",
      "source": [],
      "metadata": {
        "id": "m_LT4d2JFCMA"
      },
      "execution_count": null,
      "outputs": []
    }
  ]
}