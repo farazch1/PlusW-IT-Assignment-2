{
  "nbformat": 4,
  "nbformat_minor": 0,
  "metadata": {
    "colab": {
      "provenance": []
    },
    "kernelspec": {
      "name": "python3",
      "display_name": "Python 3"
    },
    "language_info": {
      "name": "python"
    }
  },
  "cells": [
    {
      "cell_type": "code",
      "source": [
        "#----------------------------- Task - 1 -------------------------------------------"
      ],
      "metadata": {
        "id": "-QSqDqX6Rb0_"
      },
      "execution_count": null,
      "outputs": []
    },
    {
      "cell_type": "code",
      "execution_count": null,
      "metadata": {
        "id": "8m4qhSmKRKtx"
      },
      "outputs": [],
      "source": [
        "tasks = []"
      ]
    },
    {
      "cell_type": "code",
      "source": [
        "def add_task(task):\n",
        "  tasks.append(task)"
      ],
      "metadata": {
        "id": "uRd1w4FqRa5O"
      },
      "execution_count": null,
      "outputs": []
    },
    {
      "cell_type": "code",
      "source": [
        "def remove_task(task):\n",
        "  if task in tasks:\n",
        "    tasks.remove(task)"
      ],
      "metadata": {
        "id": "wsk69i4eRnQb"
      },
      "execution_count": null,
      "outputs": []
    },
    {
      "cell_type": "code",
      "source": [
        "def view_tasks():\n",
        "  for task in tasks:\n",
        "    print(task)"
      ],
      "metadata": {
        "id": "KFD-lBp2RnlI"
      },
      "execution_count": null,
      "outputs": []
    },
    {
      "cell_type": "code",
      "source": [
        "add_task(\"Finish homework\")\n",
        "add_task(\"Buy groceries\")\n",
        "view_tasks()\n",
        "remove_task(\"Buy groceries\")\n",
        "view_tasks()"
      ],
      "metadata": {
        "colab": {
          "base_uri": "https://localhost:8080/"
        },
        "id": "gMTVlF0WRt7K",
        "outputId": "e317affb-9cbe-4341-c074-eeed87aaefb5"
      },
      "execution_count": null,
      "outputs": [
        {
          "output_type": "stream",
          "name": "stdout",
          "text": [
            "Finish homework\n",
            "Buy groceries\n",
            "Finish homework\n"
          ]
        }
      ]
    },
    {
      "cell_type": "code",
      "source": [
        "#----------------------------- Task - 2 -------------------------------------------"
      ],
      "metadata": {
        "id": "Emuf3StuR2fi"
      },
      "execution_count": null,
      "outputs": []
    },
    {
      "cell_type": "code",
      "source": [
        "def find_max_min(lst):\n",
        "  max_val = lst[0]\n",
        "  min_val = lst[0]\n",
        "  for num in lst:\n",
        "    if num > max_val:\n",
        "      max_val = num\n",
        "    if num < min_val:\n",
        "      min_val = num\n",
        "  return max_val, min_val"
      ],
      "metadata": {
        "id": "n54Z2q1ySgqQ"
      },
      "execution_count": null,
      "outputs": []
    },
    {
      "cell_type": "code",
      "source": [
        "numbers = [3, 9, 2, 8, 1]\n",
        "max_val, min_val = find_max_min(numbers)\n",
        "print(f\"Max: {max_val}, Min: {min_val}\")"
      ],
      "metadata": {
        "colab": {
          "base_uri": "https://localhost:8080/"
        },
        "id": "LUBWXI4mSxS1",
        "outputId": "9218a073-b6c8-49d7-99fd-c990a4a23408"
      },
      "execution_count": null,
      "outputs": [
        {
          "output_type": "stream",
          "name": "stdout",
          "text": [
            "Max: 9, Min: 1\n"
          ]
        }
      ]
    },
    {
      "cell_type": "code",
      "source": [
        "#----------------------------- Task - 3 -------------------------------------------"
      ],
      "metadata": {
        "id": "eM_T0EK5Syp3"
      },
      "execution_count": null,
      "outputs": []
    },
    {
      "cell_type": "code",
      "source": [
        "phonebook = {}"
      ],
      "metadata": {
        "id": "R95agLjuS3DH"
      },
      "execution_count": null,
      "outputs": []
    },
    {
      "cell_type": "code",
      "source": [
        "def add_contact(name, number):\n",
        "  phonebook[name] = number"
      ],
      "metadata": {
        "id": "a6GUZbADS5U4"
      },
      "execution_count": null,
      "outputs": []
    },
    {
      "cell_type": "code",
      "source": [
        "def get_number(name):\n",
        "  return phonebook.get(name, \"Contact not found\")"
      ],
      "metadata": {
        "id": "qGHEvaqcTAp8"
      },
      "execution_count": null,
      "outputs": []
    },
    {
      "cell_type": "code",
      "source": [
        "add_contact(\"Alice\", \"1234567890\")\n",
        "add_contact(\"Bob\", \"9876543210\")\n",
        "print(get_number(\"Bob\"))"
      ],
      "metadata": {
        "colab": {
          "base_uri": "https://localhost:8080/"
        },
        "id": "mdWr-RbUTMIy",
        "outputId": "2787835c-817c-4377-f2c2-ff9f8abd3e74"
      },
      "execution_count": null,
      "outputs": [
        {
          "output_type": "stream",
          "name": "stdout",
          "text": [
            "9876543210\n"
          ]
        }
      ]
    },
    {
      "cell_type": "code",
      "source": [
        "#----------------------------- Task - 4 -------------------------------------------"
      ],
      "metadata": {
        "id": "qja1doN5TNyn"
      },
      "execution_count": null,
      "outputs": []
    },
    {
      "cell_type": "code",
      "source": [
        "inventory = {}"
      ],
      "metadata": {
        "id": "7XVqRQiKTWWp"
      },
      "execution_count": null,
      "outputs": []
    },
    {
      "cell_type": "code",
      "source": [
        "def add_item(item, quantity):\n",
        "  if item in inventory:\n",
        "    inventory[item] += quantity\n",
        "  else:\n",
        "    inventory[item] = quantity"
      ],
      "metadata": {
        "id": "Yo32i2bTTcky"
      },
      "execution_count": null,
      "outputs": []
    },
    {
      "cell_type": "code",
      "source": [
        "def remove_item(item, quantity):\n",
        "  if item in inventory and inventory[item] >= quantity:\n",
        "    inventory[item] -= quantity\n",
        "    if inventory[item] == 0:\n",
        "      del inventory[item]\n",
        "  else:\n",
        "    print(\"Item not found or insufficient quantity\")"
      ],
      "metadata": {
        "id": "ScQWZlPtTkLP"
      },
      "execution_count": null,
      "outputs": []
    },
    {
      "cell_type": "code",
      "source": [
        "def view_inventory():\n",
        "  for item, quantity in inventory.items():\n",
        "    print(f\"{item}: {quantity}\")"
      ],
      "metadata": {
        "id": "Juh-fbsRTxHg"
      },
      "execution_count": null,
      "outputs": []
    },
    {
      "cell_type": "code",
      "source": [
        "add_item(\"Apple\", 10)\n",
        "add_item(\"Banana\", 5)\n",
        "remove_item(\"Apple\", 3)\n",
        "view_inventory()"
      ],
      "metadata": {
        "colab": {
          "base_uri": "https://localhost:8080/"
        },
        "id": "t38Zbzm3T33x",
        "outputId": "7f1d7eee-e5cc-46ff-8275-f61a3e02f2a6"
      },
      "execution_count": null,
      "outputs": [
        {
          "output_type": "stream",
          "name": "stdout",
          "text": [
            "Apple: 7\n",
            "Banana: 5\n"
          ]
        }
      ]
    },
    {
      "cell_type": "code",
      "source": [
        "#----------------------------- Task - 5 -------------------------------------------"
      ],
      "metadata": {
        "id": "jDUJslu1T5NH"
      },
      "execution_count": null,
      "outputs": []
    },
    {
      "cell_type": "code",
      "source": [
        "def deposit(balance, amount):\n",
        "    balance += amount\n",
        "    print(f\"Deposited: {amount}. New balance: {balance}\")\n",
        "    return balance  # Return the updated balance\n",
        "\n",
        "def withdraw(balance, amount):\n",
        "    if amount <= balance:\n",
        "        balance -= amount\n",
        "        print(f\"Withdrew: {amount}. New balance: {balance}\")\n",
        "    else:\n",
        "        print(\"Insufficient funds\")\n",
        "    return balance  # Return the updated balance\n",
        "\n",
        "def check_balance(balance):\n",
        "    print(f\"Current balance: {balance}\")\n",
        "\n",
        "# Example usage\n",
        "balance = 1000  # Initial balance\n",
        "balance = deposit(balance, 500)  # Deposit money\n",
        "balance = withdraw(balance, 200)  # Withdraw money\n",
        "check_balance(balance)  # Check balance\n"
      ],
      "metadata": {
        "colab": {
          "base_uri": "https://localhost:8080/"
        },
        "id": "zqm7Dh7-UA-5",
        "outputId": "050f5ee1-61fa-4055-9d00-71631ffdd588"
      },
      "execution_count": null,
      "outputs": [
        {
          "output_type": "stream",
          "name": "stdout",
          "text": [
            "Deposited: 500. New balance: 1500\n",
            "Withdrew: 200. New balance: 1300\n",
            "Current balance: 1300\n"
          ]
        }
      ]
    },
    {
      "cell_type": "code",
      "source": [],
      "metadata": {
        "id": "cj0O_J7nUNcD"
      },
      "execution_count": null,
      "outputs": []
    }
  ]
}